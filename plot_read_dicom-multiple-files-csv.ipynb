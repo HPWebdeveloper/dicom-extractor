{
 "cells": [
  {
   "cell_type": "markdown",
   "metadata": {},
   "source": [
    "### Step 1 - Importing required Libraries"
   ]
  },
  {
   "cell_type": "code",
   "execution_count": null,
   "metadata": {},
   "outputs": [],
   "source": [
    "%matplotlib inline\n",
    "import os\n",
    "import pandas as pd\n",
    "import csv\n",
    "import matplotlib.pyplot as plt\n",
    "import pydicom\n",
    "import cv2"
   ]
  },
  {
   "cell_type": "markdown",
   "metadata": {},
   "source": [
    "### Step 2 - Addressing the path of images"
   ]
  },
  {
   "cell_type": "code",
   "execution_count": null,
   "metadata": {},
   "outputs": [],
   "source": [
    "folder_path = \"./images\"\n",
    "images = os.listdir(folder_path)\n",
    "# print(images); # this print command is to be sure that all the files in the folder are in .dcm format"
   ]
  },
  {
   "cell_type": "markdown",
   "metadata": {},
   "source": [
    "### Step 3 - Loading description from a csv file\n",
    "\n",
    "It is possible to add any available description in dicom_image_description.csv file"
   ]
  },
  {
   "cell_type": "code",
   "execution_count": null,
   "metadata": {},
   "outputs": [],
   "source": [
    "dicom_image_description = pd.read_csv(\"dicom_image_description.csv\")\n",
    "# print(dicom_image_description)"
   ]
  },
  {
   "cell_type": "markdown",
   "metadata": {},
   "source": [
    "### Step 4 - Writing dcm files data into a csv file\n",
    "#### After run, in the working directory, find the 'Patient_Detail.csv' "
   ]
  },
  {
   "cell_type": "code",
   "execution_count": null,
   "metadata": {
    "scrolled": true
   },
   "outputs": [],
   "source": [
    "with open('Patient_Detail.csv', 'w', newline ='') as csvfile:\n",
    "    fieldnames = list(dicom_image_description[\"Description\"])\n",
    "    writer = csv.writer(csvfile, delimiter=',')\n",
    "    writer.writerow(fieldnames)\n",
    "    for n, image in enumerate(images):\n",
    "        dataset = pydicom.dcmread(os.path.join(folder_path, image))\n",
    "        rows = []\n",
    "        for field in fieldnames:\n",
    "            if dataset.get(field, None) is None:\n",
    "                rows.append('')\n",
    "            else:\n",
    "                x = str(dataset.data_element(field)).replace(\"'\", \"\")\n",
    "                y = x.find(\":\")\n",
    "                x = x[y+2:]\n",
    "                rows.append(x)\n",
    "        writer.writerow(rows)"
   ]
  },
  {
   "cell_type": "markdown",
   "metadata": {},
   "source": [
    "### Step 5 - Convert all dcm files into jpg format, at once\n"
   ]
  },
  {
   "cell_type": "code",
   "execution_count": null,
   "metadata": {},
   "outputs": [],
   "source": [
    "# make it True if you want in PNG format\n",
    "PNG = False\n",
    "\n",
    "jpg_folder_path = \"images_jpg\"\n",
    "for n, image in enumerate(images):\n",
    "    ds = pydicom.dcmread(os.path.join(folder_path, image))\n",
    "    pixel_array_numpy = ds.pixel_array\n",
    "    if PNG == False:\n",
    "        image = image.replace('.dcm', '.jpg')\n",
    "    else:\n",
    "        image = image.replace('.dcm', '.png')\n",
    "    cv2.imwrite(os.path.join(jpg_folder_path, image), pixel_array_numpy)\n",
    "    if n % 50 == 0:\n",
    "        print('{} image converted'.format(n))\n"
   ]
  },
  {
   "cell_type": "markdown",
   "metadata": {},
   "source": [
    "### Step 6 - Preview a DICOM image in python"
   ]
  },
  {
   "cell_type": "code",
   "execution_count": null,
   "metadata": {},
   "outputs": [],
   "source": [
    "# as an example I put 000000.dcm file in ./images directory in this working dierctory.\n",
    "image_path = './images/000000.dcm'\n",
    "image_data = pydicom.dcmread(image_path)\n",
    "plt.imshow( image_data.pixel_array)\n",
    "\n",
    "plt.show()"
   ]
  },
  {
   "cell_type": "markdown",
   "metadata": {},
   "source": [
    "### Step 7 - Plotting all dcm images along some of their useful information"
   ]
  },
  {
   "cell_type": "code",
   "execution_count": null,
   "metadata": {},
   "outputs": [],
   "source": [
    "for n, image in enumerate(images):\n",
    "    dataset = pydicom.dcmread(os.path.join(folder_path, image))\n",
    "    pat_name = dataset.PatientName\n",
    "    display_name = pat_name.family_name + \", \" + pat_name.given_name\n",
    "    print(\"Patient's name...:\", display_name)\n",
    "    print(\"Patient id.......:\", dataset.PatientID)\n",
    "    print(\"Modality.........:\", dataset.Modality)\n",
    "    print(\"Study Date.......:\", dataset.StudyDate)\n",
    "    if 'PixelData' in dataset:\n",
    "        rows = int(dataset.Rows)\n",
    "        cols = int(dataset.Columns)\n",
    "        print(\"Image size.......: {rows:d} x {cols:d}, {size:d} bytes\".format(\n",
    "            rows=rows, cols=cols, size=len(dataset.PixelData)))\n",
    "        if 'PixelSpacing' in dataset:\n",
    "            print(\"Pixel spacing....:\", dataset.PixelSpacing)\n",
    "    # use .get() if not sure the item exists, and want a default value if missing\n",
    "    print(\"Slice location...:\", dataset.get('SliceLocation', \"(missing)\"))\n",
    "    print(\"----------------\")\n",
    "    # plot the image using matplotlib\n",
    "    plt.imshow(dataset.pixel_array)\n",
    "    plt.show()"
   ]
  }
 ],
 "metadata": {
  "kernelspec": {
   "display_name": "Python 3",
   "language": "python",
   "name": "python3"
  },
  "language_info": {
   "codemirror_mode": {
    "name": "ipython",
    "version": 3
   },
   "file_extension": ".py",
   "mimetype": "text/x-python",
   "name": "python",
   "nbconvert_exporter": "python",
   "pygments_lexer": "ipython3",
   "version": "3.7.6"
  }
 },
 "nbformat": 4,
 "nbformat_minor": 1
}
